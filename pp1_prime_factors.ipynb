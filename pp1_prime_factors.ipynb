{
 "cells": [
  {
   "cell_type": "code",
   "execution_count": 1,
   "metadata": {},
   "outputs": [],
   "source": [
    "from collections import defaultdict as ddict\n",
    "import math"
   ]
  },
  {
   "cell_type": "code",
   "execution_count": 3,
   "metadata": {},
   "outputs": [
    {
     "name": "stdout",
     "output_type": "stream",
     "text": [
      "3\n",
      "5\n",
      "7\n",
      "9\n",
      "11\n",
      "13\n",
      "15\n",
      "17\n",
      "19\n",
      "21\n",
      "23\n",
      "25\n",
      "27\n",
      "29\n",
      "{2: 1, 5: 1, 29: 1}\n"
     ]
    }
   ],
   "source": [
    "factors = ddict(int)\n",
    "n = int(input('number: '))\n",
    "i=2\n",
    "lim = int(math.sqrt(n))\n",
    "flag=True\n",
    "while n>1:\n",
    "    while not n%i:\n",
    "        factors[i]+=1\n",
    "        n//=i\n",
    "    else:\n",
    "        i+=1 if i==2 else 2\n",
    "        print(i)\n",
    "    if n<=lim or i >= n:\n",
    "        factors[n]=1\n",
    "        break\n",
    "print(dict(factors))"
   ]
  }
 ],
 "metadata": {
  "kernelspec": {
   "display_name": "uni",
   "language": "python",
   "name": "python3"
  },
  "language_info": {
   "codemirror_mode": {
    "name": "ipython",
    "version": 3
   },
   "file_extension": ".py",
   "mimetype": "text/x-python",
   "name": "python",
   "nbconvert_exporter": "python",
   "pygments_lexer": "ipython3",
   "version": "3.11.9"
  }
 },
 "nbformat": 4,
 "nbformat_minor": 2
}
