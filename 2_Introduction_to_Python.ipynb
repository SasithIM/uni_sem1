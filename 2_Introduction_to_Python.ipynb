{
 "cells": [
  {
   "cell_type": "markdown",
   "metadata": {
    "id": "R8fMP07HzQRQ"
   },
   "source": [
    "# 2.1  Overview of Python\n",
    "\n",
    "The Python programming language was developed in the late 1980s by Dutch programmer Guido\n",
    "van Rossum. The language was not named after the large snake species but rather after the BBC\n",
    "comedy series Monty Python’s Flying Circus. Guido van Rossum happens to be a fan. Just like\n",
    "the Linux OS, Python eventually became an open source software development project. However,\n",
    "Guido van Rossum still has a central role in deciding how the language is going to evolve. To\n",
    "cement that role, he has been given the title of “Benevolent Dictator for Life” by the Python\n",
    "community.\n",
    "\n",
    "Python is a versatile and easy-to-use language that was specifically designed to make programs\n",
    "readable and easy to develop. Python also has a rich library making it possible to build\n",
    "sophisticated applications using relatively simple-looking, small amount of code. For these\n",
    "reasons, Python has become a popular application development language.\n",
    "\n",
    "Important Note: This document is based on Python version 3.10."
   ]
  },
  {
   "cell_type": "markdown",
   "metadata": {
    "id": "rNE7mNkdzcn1"
   },
   "source": [
    "# 2.2  How to use Python\n",
    "\n",
    "We use the Python language by working with the Python interpreter. Two common ways the\n",
    "Python interpreter can be used are the interactive mode and the scripting mode, which are\n",
    "described below."
   ]
  },
  {
   "cell_type": "markdown",
   "metadata": {
    "id": "uGmhVTKV0cwt"
   },
   "source": [
    "### 2.2.1  Interactive Mode\n",
    "\n",
    "We first invoke (start) the Python interpreter and then work with it interactively. That is, we give the\n",
    "interpreter Python commands, one at a time. To start the Python interpreter in interactive mode,\n",
    "type the command **python** on the command-line, at the shell prompt on Linux, as shown below.\n",
    "\n",
    "    $ python\n",
    "    Python 3.10.0 (default, Aug 15 2022, 20:37:26)\n",
    "    Type \"help\", \"copyright\", \"credits\" or \"license\" for more information.\n",
    "    >>>"
   ]
  },
  {
   "cell_type": "markdown",
   "metadata": {
    "id": "PFmPapVJ1kLo"
   },
   "source": [
    "When Python commands are read from the keyboard, the interpreter is said to be in interactive\n",
    "mode. In this mode it prompts for the next command with the primary prompt, usually three\n",
    "greater-than signs (&gt;&gt;&gt;); for continuation lines it prompts with the secondary prompt, by default\n",
    "three dots (...). The interpreter prints a welcome message stating its version number and a\n",
    "copyright notice before printing the primary prompt.\n",
    "\n",
    "After that, you can type commands and statements at the primary prompt. Some examples:"
   ]
  },
  {
   "cell_type": "code",
   "execution_count": null,
   "metadata": {
    "colab": {
     "base_uri": "https://localhost:8080/"
    },
    "id": "ByFZR2sx1vp3",
    "outputId": "426ecde8-8b23-4365-cdf2-87bf01713255"
   },
   "outputs": [],
   "source": [
    "1+5"
   ]
  },
  {
   "cell_type": "code",
   "execution_count": null,
   "metadata": {
    "colab": {
     "base_uri": "https://localhost:8080/"
    },
    "id": "YYymMniCscNZ",
    "outputId": "0bd8d62d-7035-4aa6-ae15-667c8f837e69"
   },
   "outputs": [],
   "source": [
    "2*5"
   ]
  },
  {
   "cell_type": "code",
   "execution_count": null,
   "metadata": {
    "colab": {
     "base_uri": "https://localhost:8080/"
    },
    "id": "jxuC8dytsdY-",
    "outputId": "03747ef1-f7fa-4ebc-aec2-ac7635d5f66d"
   },
   "outputs": [],
   "source": [
    "print(\"Hello World!\\n\")"
   ]
  },
  {
   "cell_type": "markdown",
   "metadata": {
    "id": "q4HY6EVEslCw"
   },
   "source": [
    "The interactive mode makes it easy to experiment with features of the language, or to test\n",
    "functions during program development. It is also a handy desk calculator. We will use the\n",
    "interactive mode to introduce and demonstrate Python language features in this document, when\n",
    "it is more appropriate."
   ]
  },
  {
   "cell_type": "markdown",
   "metadata": {
    "id": "-rfil3nAstt9"
   },
   "source": [
    "### 2.2.2 Scripting Mode\n",
    "\n",
    "The scripting mode is also called the &quot;normal mode&quot; (or the &quot;programming mode&quot;) and is non-\n",
    "interactive; in this we give the Python interpreter a text file containing a Python program (also\n",
    "called a Python script) as input, on the command-line, as follows:\n",
    "\n",
    "  `$ python myprog.py`\n",
    "\n",
    "Here “myprog.py” is the name of the text file that contains the Python program. Python source\n",
    "files are given the filename extension “.py”.\n",
    "\n",
    "A Python program can consist of several lines of Python code. A programmer uses a text editor to\n",
    "create and modify files containing the Python source code. We will use this scripting mode more\n",
    "towards the later parts of this document and use the interactive mode more in the initial sections to\n",
    "discuss the basics."
   ]
  },
  {
   "cell_type": "markdown",
   "metadata": {
    "id": "OEBFec-otiLN"
   },
   "source": [
    "# 2.3  Basic Data Types in Python\n",
    "\n",
    "Let us see a few examples in the interactive mode to gain ideas about basic data types in Python."
   ]
  },
  {
   "cell_type": "code",
   "execution_count": null,
   "metadata": {
    "colab": {
     "base_uri": "https://localhost:8080/"
    },
    "id": "pMh6PehKt7vX",
    "outputId": "ecccddd4-5ec6-4186-fcdb-62808860a38f"
   },
   "outputs": [],
   "source": [
    "2*5"
   ]
  },
  {
   "cell_type": "code",
   "execution_count": null,
   "metadata": {
    "colab": {
     "base_uri": "https://localhost:8080/"
    },
    "id": "WVdox2dJt9pb",
    "outputId": "a4105354-76c2-476b-b9c8-584e50cd2152"
   },
   "outputs": [],
   "source": [
    "1/2"
   ]
  },
  {
   "cell_type": "markdown",
   "metadata": {
    "id": "ngdUrBI_uBA1"
   },
   "source": [
    "There are three basic numeric types in Python: plain integers with unlimited precision (int),\n",
    "floating point numbers (float), and complex numbers (complex). In addition, Booleans (bool) are\n",
    "a subtype of integers. &#39;int&#39; objects are integers. &#39;float&#39; objects are floating-point values (“real”,\n",
    "non-integer numbers that can have a fractional part).\n",
    "\n",
    "Unlike in previous versions of Python and other programming languages, division of an integer by\n",
    "an integer using ‘/’ will result in a “float” value. For example, 4/2 will return 2.0."
   ]
  },
  {
   "cell_type": "code",
   "execution_count": 5,
   "metadata": {
    "colab": {
     "base_uri": "https://localhost:8080/"
    },
    "id": "Kyud51JCuQ9A",
    "outputId": "41aa0f2d-8523-4f82-c836-0cb60eb75a76"
   },
   "outputs": [
    {
     "data": {
      "text/plain": [
       "2.0"
      ]
     },
     "execution_count": 5,
     "metadata": {},
     "output_type": "execute_result"
    }
   ],
   "source": [
    "4/2"
   ]
  },
  {
   "cell_type": "code",
   "execution_count": 6,
   "metadata": {
    "colab": {
     "base_uri": "https://localhost:8080/"
    },
    "id": "8Jp0Om_6uTwm",
    "outputId": "1196c6ec-b9de-4e87-b1ec-6cc433f49cea"
   },
   "outputs": [
    {
     "data": {
      "text/plain": [
       "2.0"
      ]
     },
     "execution_count": 6,
     "metadata": {},
     "output_type": "execute_result"
    }
   ],
   "source": [
    "4.0/2"
   ]
  },
  {
   "cell_type": "code",
   "execution_count": 7,
   "metadata": {
    "colab": {
     "base_uri": "https://localhost:8080/"
    },
    "id": "xE9zTaqCuWLf",
    "outputId": "a285edfa-3c5e-40a1-c421-06b419d70607"
   },
   "outputs": [
    {
     "data": {
      "text/plain": [
       "3.5"
      ]
     },
     "execution_count": 7,
     "metadata": {},
     "output_type": "execute_result"
    }
   ],
   "source": [
    "7./2"
   ]
  },
  {
   "cell_type": "code",
   "execution_count": 8,
   "metadata": {
    "colab": {
     "base_uri": "https://localhost:8080/",
     "height": 35
    },
    "id": "brkoRl7kuYrq",
    "outputId": "b5668376-4644-4730-e822-cce635328287"
   },
   "outputs": [
    {
     "data": {
      "text/plain": [
       "'aaa'"
      ]
     },
     "execution_count": 8,
     "metadata": {},
     "output_type": "execute_result"
    }
   ],
   "source": [
    "'aaa'"
   ]
  },
  {
   "cell_type": "code",
   "execution_count": 9,
   "metadata": {
    "colab": {
     "base_uri": "https://localhost:8080/"
    },
    "id": "z96djxDDuagr",
    "outputId": "11e71997-11eb-4a82-c96d-433fa3ee5e24"
   },
   "outputs": [
    {
     "data": {
      "text/plain": [
       "3"
      ]
     },
     "execution_count": 9,
     "metadata": {},
     "output_type": "execute_result"
    }
   ],
   "source": [
    "len('aaa')"
   ]
  },
  {
   "cell_type": "code",
   "execution_count": 10,
   "metadata": {
    "colab": {
     "base_uri": "https://localhost:8080/"
    },
    "id": "JvJhIw4cudFx",
    "outputId": "e3ed34e4-60e9-4668-a5d9-a2574dfe77c7"
   },
   "outputs": [
    {
     "data": {
      "text/plain": [
       "7"
      ]
     },
     "execution_count": 10,
     "metadata": {},
     "output_type": "execute_result"
    }
   ],
   "source": [
    "len('aaa') + len('tttt')"
   ]
  },
  {
   "cell_type": "code",
   "execution_count": 11,
   "metadata": {
    "colab": {
     "base_uri": "https://localhost:8080/"
    },
    "id": "vGWT4sjTuh_2",
    "outputId": "792e4b7f-25f7-403d-85e7-7c5382531d4a"
   },
   "outputs": [
    {
     "data": {
      "text/plain": [
       "8"
      ]
     },
     "execution_count": 11,
     "metadata": {},
     "output_type": "execute_result"
    }
   ],
   "source": [
    "len('aaa') + len('tttt') + 1"
   ]
  },
  {
   "cell_type": "code",
   "execution_count": 12,
   "metadata": {
    "colab": {
     "base_uri": "https://localhost:8080/",
     "height": 35
    },
    "id": "WPouvGT8unQZ",
    "outputId": "8f754dc9-42b2-4b0d-acc1-efe0a9c9682b"
   },
   "outputs": [
    {
     "data": {
      "text/plain": [
       "'aaatttt'"
      ]
     },
     "execution_count": 12,
     "metadata": {},
     "output_type": "execute_result"
    }
   ],
   "source": [
    "'aaa' + 'tttt'"
   ]
  },
  {
   "cell_type": "code",
   "execution_count": 13,
   "metadata": {
    "colab": {
     "base_uri": "https://localhost:8080/",
     "height": 167
    },
    "id": "78QbKsvnuqjZ",
    "outputId": "14eeed50-418a-4693-849f-a298d3f2de69"
   },
   "outputs": [
    {
     "ename": "TypeError",
     "evalue": "can only concatenate str (not \"int\") to str",
     "output_type": "error",
     "traceback": [
      "\u001b[0;31m---------------------------------------------------------------------------\u001b[0m",
      "\u001b[0;31mTypeError\u001b[0m                                 Traceback (most recent call last)",
      "Cell \u001b[0;32mIn[13], line 1\u001b[0m\n\u001b[0;32m----> 1\u001b[0m \u001b[38;5;124m'\u001b[39m\u001b[38;5;124maaa\u001b[39m\u001b[38;5;124m'\u001b[39m \u001b[38;5;241m+\u001b[39m \u001b[38;5;241m5\u001b[39m\n",
      "\u001b[0;31mTypeError\u001b[0m: can only concatenate str (not \"int\") to str"
     ]
    }
   ],
   "source": [
    "'aaa' + 5"
   ]
  },
  {
   "cell_type": "markdown",
   "metadata": {
    "id": "w557PdcNuzWE"
   },
   "source": [
    "In Python, &#39;str&#39; objects are character strings, which are normally enclosed within either single\n",
    "quotes or double quotes. That is, &#39;aaa&#39; and &quot;aaa&quot; are the same. A string can also be triple\n",
    "quoted, either with three single quotes, as &#39;&#39;&#39;aaa&#39;&#39;&#39;, or three double quotes, as &quot;&quot;&quot;aaa&quot;&quot;&quot;.\n",
    "\n",
    "The error message in the last line of the interactive session above says that a string and an\n",
    "integer cannot be joined.\n",
    "\n",
    "You can check the type of values using the built-in function type():"
   ]
  },
  {
   "cell_type": "code",
   "execution_count": 14,
   "metadata": {
    "colab": {
     "base_uri": "https://localhost:8080/"
    },
    "id": "R14K2ki-vEaV",
    "outputId": "ea0f1db1-207b-4657-ad35-a8892811c733"
   },
   "outputs": [
    {
     "data": {
      "text/plain": [
       "int"
      ]
     },
     "execution_count": 14,
     "metadata": {},
     "output_type": "execute_result"
    }
   ],
   "source": [
    "type(1)"
   ]
  },
  {
   "cell_type": "code",
   "execution_count": 15,
   "metadata": {
    "colab": {
     "base_uri": "https://localhost:8080/"
    },
    "id": "beYGYFadvILi",
    "outputId": "12b47cf5-964d-43c6-a2a7-b53166fccf20"
   },
   "outputs": [
    {
     "data": {
      "text/plain": [
       "str"
      ]
     },
     "execution_count": 15,
     "metadata": {},
     "output_type": "execute_result"
    }
   ],
   "source": [
    "type('1')"
   ]
  },
  {
   "cell_type": "code",
   "execution_count": 16,
   "metadata": {
    "colab": {
     "base_uri": "https://localhost:8080/"
    },
    "id": "naLzAYPzvMCF",
    "outputId": "d1c94aba-7d3c-4f5e-80d2-80751472db2b"
   },
   "outputs": [
    {
     "data": {
      "text/plain": [
       "float"
      ]
     },
     "execution_count": 16,
     "metadata": {},
     "output_type": "execute_result"
    }
   ],
   "source": [
    "type(1.0)"
   ]
  },
  {
   "cell_type": "markdown",
   "metadata": {
    "id": "i0tZ-v44vSPI"
   },
   "source": [
    "The Python interpreter has several functions built into it, such as len() and type() above, that are always available."
   ]
  },
  {
   "cell_type": "markdown",
   "metadata": {
    "id": "LbCOCz8zvZ85"
   },
   "source": [
    "# 2.4  Python Objects\n",
    "\n",
    "So far, we have seen values (integers, floats and strings). We can associate a name to a value\n",
    "and access the value through the associated name:"
   ]
  },
  {
   "cell_type": "code",
   "execution_count": 17,
   "metadata": {
    "colab": {
     "base_uri": "https://localhost:8080/"
    },
    "id": "e2ufJlxHvjYK",
    "outputId": "fe6ae3d9-4ad1-4729-e268-225734d08346"
   },
   "outputs": [
    {
     "data": {
      "text/plain": [
       "3"
      ]
     },
     "execution_count": 17,
     "metadata": {},
     "output_type": "execute_result"
    }
   ],
   "source": [
    "a=3\n",
    "a"
   ]
  },
  {
   "cell_type": "markdown",
   "metadata": {
    "id": "KtR0P4KZvnLk"
   },
   "source": [
    "Here we have assigned (associated) the name &quot;a&quot; to an integer object whose value is 3. An object\n",
    "name is also referred to as a variable. In the second line above, the interpreter displays the value\n",
    "(3) of the object named &quot;a&quot;. Here is another example:"
   ]
  },
  {
   "cell_type": "code",
   "execution_count": 18,
   "metadata": {
    "colab": {
     "base_uri": "https://localhost:8080/",
     "height": 35
    },
    "id": "xwCAh-hqvqfD",
    "outputId": "e6194a20-4b9e-49a3-c6fb-4019bebb80ac"
   },
   "outputs": [
    {
     "data": {
      "text/plain": [
       "'one sentence'"
      ]
     },
     "execution_count": 18,
     "metadata": {},
     "output_type": "execute_result"
    }
   ],
   "source": [
    "myVar = 'one sentence'\n",
    "myVar"
   ]
  },
  {
   "cell_type": "markdown",
   "metadata": {
    "id": "vMsJN0-evzZr"
   },
   "source": [
    "Objects are Python’s abstraction for data. Data in a program are represented by objects or as\n",
    "relations between objects.\n",
    "\n",
    "Every object has the following attributes:\n",
    "\n",
    "\n",
    "*   An *identity*: This means *an address in memory*. This never changes within a single execution. We can\n",
    "check the identity of an object with the built-in function id(). Note that a single object may have more\n",
    "than one name (i.e., it may be associated with more than one variable); for e.g., if both the variables &quot;a&quot;\n",
    "and &quot;b&quot; refer to the same object, then the identity of &quot;a&quot; and &quot;b&quot; must be equal. Alternatively, we can\n",
    "use the “is” operator to check if both &quot;a&quot; and &quot;b&quot; are the same (i.e., whether they both refer to the same\n",
    "object).\n",
    "*   A *type*: Use the built-in function type()to check this. Possible operations and values depend on the\n",
    "type of an object.\n",
    "*   A *value*: The value of some object types can change (*mutable*) whereas other types cannot (*immutable*).\n",
    "We will further discuss this later.\n",
    "\n",
    "\n",
    "Here is an example"
   ]
  },
  {
   "cell_type": "code",
   "execution_count": 53,
   "metadata": {
    "colab": {
     "base_uri": "https://localhost:8080/"
    },
    "id": "8G1IT1bDwigx",
    "outputId": "ddbf7883-b4d4-40d6-e616-ef5756ebcaeb"
   },
   "outputs": [
    {
     "data": {
      "text/plain": [
       "257"
      ]
     },
     "execution_count": 53,
     "metadata": {},
     "output_type": "execute_result"
    }
   ],
   "source": [
    "b = 257\n",
    "c = b\n",
    "c"
   ]
  },
  {
   "cell_type": "code",
   "execution_count": 54,
   "metadata": {
    "colab": {
     "base_uri": "https://localhost:8080/"
    },
    "id": "fwGXOZN9wp-Q",
    "outputId": "1ba1b843-99f3-49ab-956f-6893c350f682"
   },
   "outputs": [
    {
     "data": {
      "text/plain": [
       "140195514099024"
      ]
     },
     "execution_count": 54,
     "metadata": {},
     "output_type": "execute_result"
    }
   ],
   "source": [
    "id(b)"
   ]
  },
  {
   "cell_type": "code",
   "execution_count": 55,
   "metadata": {
    "colab": {
     "base_uri": "https://localhost:8080/"
    },
    "id": "DvJbdCJ6wtzj",
    "outputId": "aa602a62-b75d-42a3-96e8-33c7e1464db1"
   },
   "outputs": [
    {
     "data": {
      "text/plain": [
       "140195514099024"
      ]
     },
     "execution_count": 55,
     "metadata": {},
     "output_type": "execute_result"
    }
   ],
   "source": [
    "id(c)"
   ]
  },
  {
   "cell_type": "code",
   "execution_count": 56,
   "metadata": {
    "colab": {
     "base_uri": "https://localhost:8080/"
    },
    "id": "VQ5s7QdEwvNn",
    "outputId": "15f72a94-736b-43be-aa45-4f2e35a771f3"
   },
   "outputs": [
    {
     "data": {
      "text/plain": [
       "True"
      ]
     },
     "execution_count": 56,
     "metadata": {},
     "output_type": "execute_result"
    }
   ],
   "source": [
    "b is c"
   ]
  },
  {
   "cell_type": "markdown",
   "metadata": {
    "id": "CKiXOS_Ow1nA"
   },
   "source": [
    "We cannot use arbitrary strings as object names (variables). The Python variable naming rules\n",
    "are:\n",
    "\n",
    "\n",
    "\n",
    "*   Must begin with a letter (a - z, A - Z) or underscore (_).\n",
    "\n",
    "\n",
    "*   Other characters can be letters, numbers or _ only.\n",
    "\n",
    "*   Names are case sensitive.\n",
    "*   Reserved words cannot be used as a variable name.\n",
    "\n",
    "Even when a variable name is “legal” (i.e., follows the rules), it might not be a “good” name. Here\n",
    "are some generally accepted conventions for designing good names:\n",
    "\n",
    "\n",
    "\n",
    "*   A name should be meaningful: “price” is better than “p”.\n",
    "*   For a multiple-word name, use either the underscore as the delimiter (e.g., temp_var and interest_rate) or use camelCase capitalization (e.g., tempVar, TempVar, interestRate or\n",
    "InterestRate); pick one style and use it consistently throughout your program.\n",
    "\n",
    "\n",
    "*   Shorter meaningful names are better than longer ones\n"
   ]
  },
  {
   "cell_type": "markdown",
   "metadata": {
    "id": "xWlGHiQJxm57"
   },
   "source": [
    "Can you explain the following?"
   ]
  },
  {
   "cell_type": "code",
   "execution_count": 57,
   "metadata": {
    "colab": {
     "base_uri": "https://localhost:8080/",
     "height": 132
    },
    "id": "p3P5ejH7xqbp",
    "outputId": "44ca7c95-a329-4511-b1fb-5348dcafcac2"
   },
   "outputs": [
    {
     "ename": "SyntaxError",
     "evalue": "invalid decimal literal (1755231429.py, line 1)",
     "output_type": "error",
     "traceback": [
      "\u001b[0;36m  Cell \u001b[0;32mIn[57], line 1\u001b[0;36m\u001b[0m\n\u001b[0;31m    1string = 'one string'\u001b[0m\n\u001b[0m    ^\u001b[0m\n\u001b[0;31mSyntaxError\u001b[0m\u001b[0;31m:\u001b[0m invalid decimal literal\n"
     ]
    }
   ],
   "source": [
    "1string = 'one string'"
   ]
  },
  {
   "cell_type": "code",
   "execution_count": 58,
   "metadata": {
    "colab": {
     "base_uri": "https://localhost:8080/",
     "height": 185
    },
    "id": "9Xke9j2Cxvi7",
    "outputId": "0c802220-818b-4047-d103-e1d4064ff740"
   },
   "outputs": [
    {
     "ename": "NameError",
     "evalue": "name 'myvar' is not defined",
     "output_type": "error",
     "traceback": [
      "\u001b[0;31m---------------------------------------------------------------------------\u001b[0m",
      "\u001b[0;31mNameError\u001b[0m                                 Traceback (most recent call last)",
      "Cell \u001b[0;32mIn[58], line 2\u001b[0m\n\u001b[1;32m      1\u001b[0m myVar \u001b[38;5;241m=\u001b[39m \u001b[38;5;124m'\u001b[39m\u001b[38;5;124mone sentence\u001b[39m\u001b[38;5;124m'\u001b[39m\n\u001b[0;32m----> 2\u001b[0m myvar\n",
      "\u001b[0;31mNameError\u001b[0m: name 'myvar' is not defined"
     ]
    }
   ],
   "source": [
    "myVar = 'one sentence'\n",
    "myvar"
   ]
  },
  {
   "cell_type": "code",
   "execution_count": 59,
   "metadata": {
    "colab": {
     "base_uri": "https://localhost:8080/"
    },
    "id": "j5y4thbXxzhR",
    "outputId": "a29f38bb-5747-476a-a192-2fe2d8cab045"
   },
   "outputs": [
    {
     "data": {
      "text/plain": [
       "2"
      ]
     },
     "execution_count": 59,
     "metadata": {},
     "output_type": "execute_result"
    }
   ],
   "source": [
    "a = 2\n",
    "a"
   ]
  },
  {
   "cell_type": "code",
   "execution_count": 60,
   "metadata": {
    "colab": {
     "base_uri": "https://localhost:8080/"
    },
    "id": "EckfEPU3x7jl",
    "outputId": "0d2e371a-ea16-4238-975e-75a5abf88f0e"
   },
   "outputs": [
    {
     "data": {
      "text/plain": [
       "10"
      ]
     },
     "execution_count": 60,
     "metadata": {},
     "output_type": "execute_result"
    }
   ],
   "source": [
    "a * 5"
   ]
  },
  {
   "cell_type": "markdown",
   "metadata": {
    "id": "r8O1VVRRx-5N"
   },
   "source": [
    "# 2.5  Mutability of Objects\n",
    "\n",
    "When the value of an object can change, it is mutable; if not, then the object is immutable. In\n",
    "Python, mutability depends on the type, as follows:\n",
    "\n",
    "\n",
    "*   Immutable types: all numeric types (numbers), strings, tuples, range, bytes, Unicode, frozenset\n",
    "*   Mutable types: lists, dictionaries, bytearray, set, classes, class instances\n",
    "\n",
    "Here are a few examples with integer objects and string objects.\n"
   ]
  },
  {
   "cell_type": "code",
   "execution_count": 99,
   "metadata": {
    "colab": {
     "base_uri": "https://localhost:8080/"
    },
    "id": "6nhbRtCmDuWR",
    "outputId": "a1193470-d2e2-48ae-9b09-2cbd4a2cdfe4"
   },
   "outputs": [
    {
     "data": {
      "text/plain": [
       "'abc'"
      ]
     },
     "execution_count": 99,
     "metadata": {},
     "output_type": "execute_result"
    }
   ],
   "source": [
    "b='abc'\n",
    "c=b\n",
    "c"
   ]
  },
  {
   "cell_type": "code",
   "execution_count": 100,
   "metadata": {
    "colab": {
     "base_uri": "https://localhost:8080/"
    },
    "id": "ZsN8abzmD0HY",
    "outputId": "e20a0d14-261a-4b39-f06e-36e143a43a92"
   },
   "outputs": [
    {
     "data": {
      "text/plain": [
       "8483488"
      ]
     },
     "execution_count": 100,
     "metadata": {},
     "output_type": "execute_result"
    }
   ],
   "source": [
    "id(b)"
   ]
  },
  {
   "cell_type": "code",
   "execution_count": 101,
   "metadata": {
    "id": "dgvpJDCGD4S_"
   },
   "outputs": [
    {
     "data": {
      "text/plain": [
       "8483488"
      ]
     },
     "execution_count": 101,
     "metadata": {},
     "output_type": "execute_result"
    }
   ],
   "source": [
    "id(c)"
   ]
  },
  {
   "cell_type": "code",
   "execution_count": 102,
   "metadata": {
    "colab": {
     "base_uri": "https://localhost:8080/"
    },
    "id": "FLBEiGGMD6eS",
    "outputId": "7e865bf2-1c77-4a2a-fd85-06e73bcebd9d"
   },
   "outputs": [
    {
     "data": {
      "text/plain": [
       "True"
      ]
     },
     "execution_count": 102,
     "metadata": {},
     "output_type": "execute_result"
    }
   ],
   "source": [
    "b is c"
   ]
  },
  {
   "cell_type": "code",
   "execution_count": 103,
   "metadata": {
    "colab": {
     "base_uri": "https://localhost:8080/"
    },
    "id": "plWyejDgD9WB",
    "outputId": "09066312-9a96-4247-8687-1fdfc47205e3"
   },
   "outputs": [
    {
     "data": {
      "text/plain": [
       "'bcd'"
      ]
     },
     "execution_count": 103,
     "metadata": {},
     "output_type": "execute_result"
    }
   ],
   "source": [
    "b='bcd' \n",
    "b"
   ]
  },
  {
   "cell_type": "code",
   "execution_count": 104,
   "metadata": {
    "id": "wBhqr-SnEA6U"
   },
   "outputs": [
    {
     "data": {
      "text/plain": [
       "'abc'"
      ]
     },
     "execution_count": 104,
     "metadata": {},
     "output_type": "execute_result"
    }
   ],
   "source": [
    "c"
   ]
  },
  {
   "cell_type": "code",
   "execution_count": 105,
   "metadata": {
    "id": "xO1rWVhAEC8q"
   },
   "outputs": [
    {
     "data": {
      "text/plain": [
       "140195515068848"
      ]
     },
     "execution_count": 105,
     "metadata": {},
     "output_type": "execute_result"
    }
   ],
   "source": [
    "id(b)"
   ]
  },
  {
   "cell_type": "code",
   "execution_count": 87,
   "metadata": {
    "id": "jCNs5ikVEF7V"
   },
   "outputs": [
    {
     "data": {
      "text/plain": [
       "140195514100624"
      ]
     },
     "execution_count": 87,
     "metadata": {},
     "output_type": "execute_result"
    }
   ],
   "source": [
    "id(c)"
   ]
  },
  {
   "cell_type": "code",
   "execution_count": 88,
   "metadata": {
    "colab": {
     "base_uri": "https://localhost:8080/"
    },
    "id": "qSJ4iZ2iEIXJ",
    "outputId": "120bf965-9994-4ffc-c13a-68378685a5be"
   },
   "outputs": [
    {
     "data": {
      "text/plain": [
       "False"
      ]
     },
     "execution_count": 88,
     "metadata": {},
     "output_type": "execute_result"
    }
   ],
   "source": [
    "b is c"
   ]
  },
  {
   "cell_type": "code",
   "execution_count": 91,
   "metadata": {
    "id": "BabJjfoREKNN"
   },
   "outputs": [],
   "source": [
    "p='abcxyz'"
   ]
  },
  {
   "cell_type": "code",
   "execution_count": 92,
   "metadata": {
    "id": "UwQ26bZTENEn"
   },
   "outputs": [],
   "source": [
    "q=p"
   ]
  },
  {
   "cell_type": "code",
   "execution_count": 93,
   "metadata": {
    "colab": {
     "base_uri": "https://localhost:8080/",
     "height": 35
    },
    "id": "Oj-Sf1kNEOe9",
    "outputId": "90883ce8-bc81-4ec9-a799-450e5da09ee5"
   },
   "outputs": [
    {
     "data": {
      "text/plain": [
       "'abcxyz'"
      ]
     },
     "execution_count": 93,
     "metadata": {},
     "output_type": "execute_result"
    }
   ],
   "source": [
    "q"
   ]
  },
  {
   "cell_type": "code",
   "execution_count": 94,
   "metadata": {
    "colab": {
     "base_uri": "https://localhost:8080/"
    },
    "id": "N_lTfSPuEREr",
    "outputId": "5d8e327c-4d1c-4d49-dfc1-22f7abfce544"
   },
   "outputs": [
    {
     "data": {
      "text/plain": [
       "True"
      ]
     },
     "execution_count": 94,
     "metadata": {},
     "output_type": "execute_result"
    }
   ],
   "source": [
    "p is q"
   ]
  },
  {
   "cell_type": "code",
   "execution_count": 95,
   "metadata": {
    "colab": {
     "base_uri": "https://localhost:8080/"
    },
    "id": "MwxS6imBEUnv",
    "outputId": "cbf87fce-0eb0-4e1f-ccbd-acbef391b9fe"
   },
   "outputs": [
    {
     "data": {
      "text/plain": [
       "(140195513290416, 140195513290416)"
      ]
     },
     "execution_count": 95,
     "metadata": {},
     "output_type": "execute_result"
    }
   ],
   "source": [
    "id(p), id(q)"
   ]
  },
  {
   "cell_type": "code",
   "execution_count": 96,
   "metadata": {
    "colab": {
     "base_uri": "https://localhost:8080/",
     "height": 35
    },
    "id": "361d9AOOEYqd",
    "outputId": "84158005-19ec-4050-8918-27c373eff6ab"
   },
   "outputs": [
    {
     "data": {
      "text/plain": [
       "'c'"
      ]
     },
     "execution_count": 96,
     "metadata": {},
     "output_type": "execute_result"
    }
   ],
   "source": [
    "q[2]"
   ]
  },
  {
   "cell_type": "code",
   "execution_count": 97,
   "metadata": {
    "colab": {
     "base_uri": "https://localhost:8080/"
    },
    "id": "AsmiYBUJEbVB",
    "outputId": "8fcf7c01-c15a-4ebd-a4c9-d80729dda1b7"
   },
   "outputs": [
    {
     "data": {
      "text/plain": [
       "(140195513290416, 140195513295344)"
      ]
     },
     "execution_count": 97,
     "metadata": {},
     "output_type": "execute_result"
    }
   ],
   "source": [
    "q='01234'\n",
    "id(p), id(q)"
   ]
  },
  {
   "cell_type": "code",
   "execution_count": 98,
   "metadata": {
    "colab": {
     "base_uri": "https://localhost:8080/",
     "height": 167
    },
    "id": "SLQz4myfEkPX",
    "outputId": "e22e3ad7-34f1-4c32-8003-d3157d888234"
   },
   "outputs": [
    {
     "ename": "TypeError",
     "evalue": "'str' object does not support item assignment",
     "output_type": "error",
     "traceback": [
      "\u001b[0;31m---------------------------------------------------------------------------\u001b[0m",
      "\u001b[0;31mTypeError\u001b[0m                                 Traceback (most recent call last)",
      "Cell \u001b[0;32mIn[98], line 1\u001b[0m\n\u001b[0;32m----> 1\u001b[0m q[\u001b[38;5;241m2\u001b[39m]\u001b[38;5;241m=\u001b[39m\u001b[38;5;124m'\u001b[39m\u001b[38;5;124mW\u001b[39m\u001b[38;5;124m'\u001b[39m\n",
      "\u001b[0;31mTypeError\u001b[0m: 'str' object does not support item assignment"
     ]
    }
   ],
   "source": [
    "q[2]='W'"
   ]
  },
  {
   "cell_type": "markdown",
   "metadata": {
    "id": "Ealtex9Oyeos"
   },
   "source": [
    "# 2.6  Arithmetic and Algebraic Expressions\n",
    "\n",
    "Arithmetic expressions evaluate to a numeric value, whether of type int or float or other number\n",
    "types that Python supports. We can enter an arithmetic expression, such as 3 + 7, and hit the\n",
    "Enter key on the keyboard to view the result of evaluating that expression, as seen below:"
   ]
  },
  {
   "cell_type": "code",
   "execution_count": 106,
   "metadata": {
    "colab": {
     "base_uri": "https://localhost:8080/"
    },
    "id": "THQ7xbrlytE1",
    "outputId": "d65431eb-5f97-4764-f3d0-c5017a203667"
   },
   "outputs": [
    {
     "data": {
      "text/plain": [
       "10"
      ]
     },
     "execution_count": 106,
     "metadata": {},
     "output_type": "execute_result"
    }
   ],
   "source": [
    "3+7"
   ]
  },
  {
   "cell_type": "code",
   "execution_count": 107,
   "metadata": {
    "colab": {
     "base_uri": "https://localhost:8080/"
    },
    "id": "auWlbYepy2Y6",
    "outputId": "52eb6bf7-cf42-496a-e35e-97297744bd11"
   },
   "outputs": [
    {
     "data": {
      "text/plain": [
       "6"
      ]
     },
     "execution_count": 107,
     "metadata": {},
     "output_type": "execute_result"
    }
   ],
   "source": [
    "3 * 2"
   ]
  },
  {
   "cell_type": "code",
   "execution_count": 108,
   "metadata": {
    "colab": {
     "base_uri": "https://localhost:8080/"
    },
    "id": "7jFcfyw1y4Le",
    "outputId": "39610394-07aa-4c29-e610-99ee70a08107"
   },
   "outputs": [
    {
     "data": {
      "text/plain": [
       "2.5"
      ]
     },
     "execution_count": 108,
     "metadata": {},
     "output_type": "execute_result"
    }
   ],
   "source": [
    "5/2"
   ]
  },
  {
   "cell_type": "code",
   "execution_count": 109,
   "metadata": {
    "colab": {
     "base_uri": "https://localhost:8080/"
    },
    "id": "G4fupN1ey5f8",
    "outputId": "b388452b-410d-4ba4-c0b5-f0f349a459ea"
   },
   "outputs": [
    {
     "data": {
      "text/plain": [
       "2.0"
      ]
     },
     "execution_count": 109,
     "metadata": {},
     "output_type": "execute_result"
    }
   ],
   "source": [
    "4.0/2"
   ]
  },
  {
   "cell_type": "markdown",
   "metadata": {
    "id": "VFzcsbbgy-yr"
   },
   "source": [
    "In the first two expressions, integers are added or multiplied, and the result is an integer, which is\n",
    "what you expect. In the third expression, an integer is divided by another and the result is a float.\n",
    "In Python version 3, division of an integer by an integer returns the actual value in the form a\n",
    "floating point number. In the last expression, where the float value 4.0 is divided by 2 and the\n",
    "result shown is 2.0.\n",
    "\n",
    "Values without the decimal point are of type integer, or simply **int**. Values with a decimal point\n",
    "alone (such as **4.**) or with a fractional part (such as **4.32**) are of type floating point, or simply\n",
    "**float**. Let us continue evaluating a few more expressions of both types:"
   ]
  },
  {
   "cell_type": "code",
   "execution_count": 110,
   "metadata": {
    "colab": {
     "base_uri": "https://localhost:8080/"
    },
    "id": "cwpqQE-YzXRj",
    "outputId": "4d752add-af98-4fae-94e0-be188d89dfc7"
   },
   "outputs": [
    {
     "data": {
      "text/plain": [
       "7"
      ]
     },
     "execution_count": 110,
     "metadata": {},
     "output_type": "execute_result"
    }
   ],
   "source": [
    "2 * 3 + 1"
   ]
  },
  {
   "cell_type": "code",
   "execution_count": 111,
   "metadata": {
    "colab": {
     "base_uri": "https://localhost:8080/"
    },
    "id": "_JiYTWfAzZ3T",
    "outputId": "f2a3b337-ffb7-45ad-8e6a-a7bfd4939874"
   },
   "outputs": [
    {
     "data": {
      "text/plain": [
       "12"
      ]
     },
     "execution_count": 111,
     "metadata": {},
     "output_type": "execute_result"
    }
   ],
   "source": [
    "(3 + 1) * 3"
   ]
  },
  {
   "cell_type": "code",
   "execution_count": 112,
   "metadata": {
    "colab": {
     "base_uri": "https://localhost:8080/"
    },
    "id": "bnRuOLWtzdEm",
    "outputId": "5f6fe8ab-a776-4435-9535-a2d8509cd60c"
   },
   "outputs": [
    {
     "data": {
      "text/plain": [
       "11.440333333333333"
      ]
     },
     "execution_count": 112,
     "metadata": {},
     "output_type": "execute_result"
    }
   ],
   "source": [
    "4.321 / 3 + 10"
   ]
  },
  {
   "cell_type": "code",
   "execution_count": 113,
   "metadata": {
    "colab": {
     "base_uri": "https://localhost:8080/"
    },
    "id": "3NytEo-Mzg4m",
    "outputId": "c7e52091-4a29-4bdd-fc2c-831bffb3f1f0"
   },
   "outputs": [
    {
     "data": {
      "text/plain": [
       "0.3323846153846154"
      ]
     },
     "execution_count": 113,
     "metadata": {},
     "output_type": "execute_result"
    }
   ],
   "source": [
    "4.321 / (3 + 10)"
   ]
  },
  {
   "cell_type": "markdown",
   "metadata": {
    "id": "YkSu4IdAznG9"
   },
   "source": [
    "Multiple operators are used in these expressions, which raises the question: In what order should\n",
    "the operations be evaluated? The standard algebra precedence rules apply in Python:\n",
    "*multiplication and division take precedence over addition and subtraction* and, just as in algebra,\n",
    "parentheses are used when we want to explicitly specify the order in which operations should take\n",
    "place. If all else fails, expressions are evaluated left- to-right.\n",
    "\n",
    "All the expressions we have evaluated so far are plain arithmetic expressions involving number\n",
    "values (of type int or type float), arithmetic operators (such as +, -, /, and *), and parentheses.\n",
    "When you hit the Enter key, the Python interpreter will read the expression and evaluate it.\n",
    "\n",
    "The two most frequently used types of number values, int and float, have different properties. For\n",
    "example, when two int values are added, subtracted, or multiplied, the result is an int value. If at\n",
    "least one float value appears in such an expression, however, the result is always a float value.\n",
    "\n",
    "The exponentiation operator ** can be used to compute x y using the expression x**y:\n"
   ]
  },
  {
   "cell_type": "code",
   "execution_count": 114,
   "metadata": {
    "colab": {
     "base_uri": "https://localhost:8080/"
    },
    "id": "zCm5AqjNz706",
    "outputId": "35a0b434-800c-45bc-8188-4c9cbb5ab2fa"
   },
   "outputs": [
    {
     "data": {
      "text/plain": [
       "8"
      ]
     },
     "execution_count": 114,
     "metadata": {},
     "output_type": "execute_result"
    }
   ],
   "source": [
    "2**3"
   ]
  },
  {
   "cell_type": "code",
   "execution_count": 115,
   "metadata": {
    "colab": {
     "base_uri": "https://localhost:8080/"
    },
    "id": "euyn5cZfz-1o",
    "outputId": "97e1443f-8cb6-493a-c459-c32343cbccd1"
   },
   "outputs": [
    {
     "data": {
      "text/plain": [
       "16"
      ]
     },
     "execution_count": 115,
     "metadata": {},
     "output_type": "execute_result"
    }
   ],
   "source": [
    "2**4"
   ]
  },
  {
   "cell_type": "markdown",
   "metadata": {
    "id": "Bu9Z7NxW0DXR"
   },
   "source": [
    "To obtain the integer quotient and the integer remainder from an integer division operation,\n",
    "operators // and %, respectively, are used. The operator // performs floor division (also called\n",
    "integer division), which gives the integer quotient of the division; that is, the expression a//b\n",
    "returns the integer quotient of the operation where integer a is divided by integer b. The %\n",
    "operator in expression a%b returns the remainder of the operation where integer a is divided by\n",
    "integer b. For example:"
   ]
  },
  {
   "cell_type": "code",
   "execution_count": 116,
   "metadata": {
    "colab": {
     "base_uri": "https://localhost:8080/"
    },
    "id": "BVAUTAG30GkP",
    "outputId": "8af25f1d-996e-4f06-be44-3976732fb752"
   },
   "outputs": [
    {
     "data": {
      "text/plain": [
       "4.666666666666667"
      ]
     },
     "execution_count": 116,
     "metadata": {},
     "output_type": "execute_result"
    }
   ],
   "source": [
    "14/3"
   ]
  },
  {
   "cell_type": "code",
   "execution_count": 117,
   "metadata": {
    "colab": {
     "base_uri": "https://localhost:8080/"
    },
    "id": "7LruNwWo0LHC",
    "outputId": "911496e9-753b-488c-f257-50eb51077c59"
   },
   "outputs": [
    {
     "data": {
      "text/plain": [
       "4"
      ]
     },
     "execution_count": 117,
     "metadata": {},
     "output_type": "execute_result"
    }
   ],
   "source": [
    "14//3"
   ]
  },
  {
   "cell_type": "code",
   "execution_count": 118,
   "metadata": {
    "colab": {
     "base_uri": "https://localhost:8080/"
    },
    "id": "3vGdHAg70Mli",
    "outputId": "abbc549a-e6a8-4bec-d592-6545e5d2d592"
   },
   "outputs": [
    {
     "data": {
      "text/plain": [
       "2"
      ]
     },
     "execution_count": 118,
     "metadata": {},
     "output_type": "execute_result"
    }
   ],
   "source": [
    "14%3"
   ]
  },
  {
   "cell_type": "markdown",
   "metadata": {
    "id": "9DyyAqyl0QuH"
   },
   "source": [
    "The second (14//3) expression evaluates to 4 because 4 is the integer part (quotient) of the\n",
    "division. In the third expression, 14 % 3 evaluates to 2 because 2 is the remainder when 14 is\n",
    "divided by 3.\n",
    "\n",
    "The Python interpreter has several functions built into it that are always available. For example,\n",
    "the Python function abs() can be used to compute the absolute value of a number."
   ]
  },
  {
   "cell_type": "code",
   "execution_count": 119,
   "metadata": {
    "colab": {
     "base_uri": "https://localhost:8080/"
    },
    "id": "94U9MqYt0Wvg",
    "outputId": "b2c9619d-ddb6-4bd2-f221-be92a6809226"
   },
   "outputs": [
    {
     "data": {
      "text/plain": [
       "4"
      ]
     },
     "execution_count": 119,
     "metadata": {},
     "output_type": "execute_result"
    }
   ],
   "source": [
    "abs(-4)"
   ]
  },
  {
   "cell_type": "code",
   "execution_count": 120,
   "metadata": {
    "colab": {
     "base_uri": "https://localhost:8080/"
    },
    "id": "nD1KBcba0Y46",
    "outputId": "5cb7599c-a818-4a44-e3bc-a7b0e6e33294"
   },
   "outputs": [
    {
     "data": {
      "text/plain": [
       "4"
      ]
     },
     "execution_count": 120,
     "metadata": {},
     "output_type": "execute_result"
    }
   ],
   "source": [
    "abs(4)"
   ]
  },
  {
   "cell_type": "code",
   "execution_count": 121,
   "metadata": {
    "colab": {
     "base_uri": "https://localhost:8080/"
    },
    "id": "X5tZDk2d0arO",
    "outputId": "3a33dcdc-3b1f-4f51-84ab-1a3c2f42ce90"
   },
   "outputs": [
    {
     "data": {
      "text/plain": [
       "3.2"
      ]
     },
     "execution_count": 121,
     "metadata": {},
     "output_type": "execute_result"
    }
   ],
   "source": [
    "abs(-3.2)"
   ]
  },
  {
   "cell_type": "markdown",
   "metadata": {
    "id": "TVTDBg6_0hQW"
   },
   "source": [
    "Other built-in functions available in Python include **min()** and **max()**, which return the minimum or\n",
    "maximum, respectively, of the input values, as seen below."
   ]
  },
  {
   "cell_type": "code",
   "execution_count": 122,
   "metadata": {
    "colab": {
     "base_uri": "https://localhost:8080/"
    },
    "id": "IIWfmFEt0mat",
    "outputId": "a37f7871-de89-460f-9c00-7f6abfb5ecc8"
   },
   "outputs": [
    {
     "data": {
      "text/plain": [
       "-2"
      ]
     },
     "execution_count": 122,
     "metadata": {},
     "output_type": "execute_result"
    }
   ],
   "source": [
    "min(6,-2)"
   ]
  },
  {
   "cell_type": "code",
   "execution_count": 123,
   "metadata": {
    "colab": {
     "base_uri": "https://localhost:8080/"
    },
    "id": "ZS03D-J-0n6s",
    "outputId": "8b77d8e4-6d26-4110-a783-3e4f36c4ad29"
   },
   "outputs": [
    {
     "data": {
      "text/plain": [
       "6"
      ]
     },
     "execution_count": 123,
     "metadata": {},
     "output_type": "execute_result"
    }
   ],
   "source": [
    "max(6,-2)"
   ]
  },
  {
   "cell_type": "code",
   "execution_count": 124,
   "metadata": {
    "colab": {
     "base_uri": "https://localhost:8080/"
    },
    "id": "owqZY5Qb0rSA",
    "outputId": "c8017089-dfe5-4115-9361-a94f68f9198d"
   },
   "outputs": [
    {
     "data": {
      "text/plain": [
       "-4"
      ]
     },
     "execution_count": 124,
     "metadata": {},
     "output_type": "execute_result"
    }
   ],
   "source": [
    "min(2, -4, 6, -2)"
   ]
  },
  {
   "cell_type": "code",
   "execution_count": 125,
   "metadata": {
    "colab": {
     "base_uri": "https://localhost:8080/"
    },
    "id": "wOBR0lGi0uFC",
    "outputId": "4d631889-5849-4fef-ff18-40e7fff36e6e"
   },
   "outputs": [
    {
     "data": {
      "text/plain": [
       "26.5"
      ]
     },
     "execution_count": 125,
     "metadata": {},
     "output_type": "execute_result"
    }
   ],
   "source": [
    "max(12, 26.5, 3.5)"
   ]
  },
  {
   "cell_type": "markdown",
   "metadata": {
    "id": "eENLw1lI0xwd"
   },
   "source": [
    "#### **Pracitce Problem 2.1**\n",
    "\n",
    "Write Python expressions corresponding to the following statements:\n",
    "\n",
    "1.   The sum of the first 5 positive integers\n",
    "2.   The average age of Geetha (age 23), Kasun (age 19), and Fathima (age 31)\n",
    "3. The number of times 73 goes into 403\n",
    "4. The remainder when 403 is divided by 73\n",
    "5. 2 to the 10th power\n",
    "6. The absolute value of difference between the heights of Geetha (54 inches) and Kasun (57 inches)\n",
    "7. The lowest price among the following prices: Rs. 34.99, Rs. 29.95, and Rs. 31.50"
   ]
  },
  {
   "cell_type": "code",
   "execution_count": 156,
   "metadata": {
    "id": "-a7f3sN9zH5G"
   },
   "outputs": [
    {
     "name": "stdout",
     "output_type": "stream",
     "text": [
      "15\n",
      "24.333333333333332\n",
      "5\n",
      "1024\n",
      "3\n"
     ]
    },
    {
     "data": {
      "text/plain": [
       "29.95"
      ]
     },
     "execution_count": 156,
     "metadata": {},
     "output_type": "execute_result"
    }
   ],
   "source": [
    "#Try out your solutions here\n",
    "#1\n",
    "print(sum(range(6)))\n",
    "\n",
    "#2\n",
    "print((23+19+31)/3)\n",
    "\n",
    "#3\n",
    "print(403//73)\n",
    "\n",
    "#4\n",
    "print(1<<10)\n",
    "\n",
    "#5\n",
    "print(abs(54-57))\n",
    "\n",
    "#6\n",
    "min(34.99,29.95,31.50)"
   ]
  },
  {
   "cell_type": "markdown",
   "metadata": {
    "id": "g1Q6oTzp2J6-"
   },
   "source": [
    "# 2.7  Boolean Expressions and Operators\n",
    "\n",
    "Expressions other than arithmetic expressions are also common. For example, the expression 2 &lt;\n",
    "3 does not evaluate to a number; it evaluates to either *True* or *False* (True in this case), which are\n",
    "Boolean values. (*True* and *False* are Python built-in constants of **bool** type).\n",
    "\n",
    "Comparison operators (such as &lt; or &gt;) are commonly used in Boolean expressions. For example:"
   ]
  },
  {
   "cell_type": "code",
   "execution_count": 127,
   "metadata": {
    "colab": {
     "base_uri": "https://localhost:8080/"
    },
    "executionInfo": {
     "elapsed": 58,
     "status": "ok",
     "timestamp": 1627386597300,
     "user": {
      "displayName": "Kalana Wijegunarathna",
      "photoUrl": "https://lh3.googleusercontent.com/a-/AOh14GgdT59S_-QqaCBkCeJPNiakklpbaxsbO9noyndz=s64",
      "userId": "02489838847977846317"
     },
     "user_tz": -330
    },
    "id": "mH6cmnok2he2",
    "outputId": "ed0eade7-8dd1-4db6-8d98-18f3c5608471"
   },
   "outputs": [
    {
     "data": {
      "text/plain": [
       "True"
      ]
     },
     "execution_count": 127,
     "metadata": {},
     "output_type": "execute_result"
    }
   ],
   "source": [
    "2<3"
   ]
  },
  {
   "cell_type": "code",
   "execution_count": 128,
   "metadata": {
    "colab": {
     "base_uri": "https://localhost:8080/"
    },
    "executionInfo": {
     "elapsed": 53,
     "status": "ok",
     "timestamp": 1627386597301,
     "user": {
      "displayName": "Kalana Wijegunarathna",
      "photoUrl": "https://lh3.googleusercontent.com/a-/AOh14GgdT59S_-QqaCBkCeJPNiakklpbaxsbO9noyndz=s64",
      "userId": "02489838847977846317"
     },
     "user_tz": -330
    },
    "id": "6adKwxYm2jSb",
    "outputId": "de4caed8-e630-4fc2-b5fa-ba631ca7fb4f"
   },
   "outputs": [
    {
     "data": {
      "text/plain": [
       "False"
      ]
     },
     "execution_count": 128,
     "metadata": {},
     "output_type": "execute_result"
    }
   ],
   "source": [
    "3<2"
   ]
  },
  {
   "cell_type": "code",
   "execution_count": 129,
   "metadata": {
    "colab": {
     "base_uri": "https://localhost:8080/"
    },
    "executionInfo": {
     "elapsed": 44,
     "status": "ok",
     "timestamp": 1627386597302,
     "user": {
      "displayName": "Kalana Wijegunarathna",
      "photoUrl": "https://lh3.googleusercontent.com/a-/AOh14GgdT59S_-QqaCBkCeJPNiakklpbaxsbO9noyndz=s64",
      "userId": "02489838847977846317"
     },
     "user_tz": -330
    },
    "id": "OJll66-v2k_h",
    "outputId": "e1143d9b-e4e4-4123-df83-d6e1c34890a3"
   },
   "outputs": [
    {
     "data": {
      "text/plain": [
       "bool"
      ]
     },
     "execution_count": 129,
     "metadata": {},
     "output_type": "execute_result"
    }
   ],
   "source": [
    "type(True)"
   ]
  },
  {
   "cell_type": "code",
   "execution_count": 130,
   "metadata": {
    "colab": {
     "base_uri": "https://localhost:8080/"
    },
    "executionInfo": {
     "elapsed": 40,
     "status": "ok",
     "timestamp": 1627386597304,
     "user": {
      "displayName": "Kalana Wijegunarathna",
      "photoUrl": "https://lh3.googleusercontent.com/a-/AOh14GgdT59S_-QqaCBkCeJPNiakklpbaxsbO9noyndz=s64",
      "userId": "02489838847977846317"
     },
     "user_tz": -330
    },
    "id": "X0VojRyb2msu",
    "outputId": "902a22c5-67da-4d40-8368-6e6247144063"
   },
   "outputs": [
    {
     "data": {
      "text/plain": [
       "True"
      ]
     },
     "execution_count": 130,
     "metadata": {},
     "output_type": "execute_result"
    }
   ],
   "source": [
    "5-1>2+1"
   ]
  },
  {
   "cell_type": "markdown",
   "metadata": {
    "id": "n-8T-bdQ2rlS"
   },
   "source": [
    "The last expression illustrates that arithmetic/algebraic expressions on either side of a comparison\n",
    "operator are evaluated before the comparison is made. As we will see later, *arithmetic operators\n",
    "take precedence over comparison operators*. For example, in 5 - 1 &gt; 2 + 1, the operations - and +\n",
    "are performed first, and then the comparison is made between the resulting values."
   ]
  },
  {
   "cell_type": "markdown",
   "metadata": {
    "id": "R0nATxYq27ZK"
   },
   "source": [
    "In order to check equality between values, the comparison operator == is used. Note that this\n",
    "operator has two = symbols, not one. Then, != is the not equal operator. Here are some examples:"
   ]
  },
  {
   "cell_type": "code",
   "execution_count": 131,
   "metadata": {
    "colab": {
     "base_uri": "https://localhost:8080/"
    },
    "executionInfo": {
     "elapsed": 33,
     "status": "ok",
     "timestamp": 1627386597306,
     "user": {
      "displayName": "Kalana Wijegunarathna",
      "photoUrl": "https://lh3.googleusercontent.com/a-/AOh14GgdT59S_-QqaCBkCeJPNiakklpbaxsbO9noyndz=s64",
      "userId": "02489838847977846317"
     },
     "user_tz": -330
    },
    "id": "YDtPO3Il3AzS",
    "outputId": "75bc1263-7524-41dc-b9bc-5b478e2620a3"
   },
   "outputs": [
    {
     "data": {
      "text/plain": [
       "True"
      ]
     },
     "execution_count": 131,
     "metadata": {},
     "output_type": "execute_result"
    }
   ],
   "source": [
    "3==3"
   ]
  },
  {
   "cell_type": "code",
   "execution_count": 132,
   "metadata": {
    "colab": {
     "base_uri": "https://localhost:8080/"
    },
    "executionInfo": {
     "elapsed": 29,
     "status": "ok",
     "timestamp": 1627386597307,
     "user": {
      "displayName": "Kalana Wijegunarathna",
      "photoUrl": "https://lh3.googleusercontent.com/a-/AOh14GgdT59S_-QqaCBkCeJPNiakklpbaxsbO9noyndz=s64",
      "userId": "02489838847977846317"
     },
     "user_tz": -330
    },
    "id": "bu-uvUl33CWV",
    "outputId": "ceda6472-a10c-4a19-9595-0210716f8c81"
   },
   "outputs": [
    {
     "data": {
      "text/plain": [
       "True"
      ]
     },
     "execution_count": 132,
     "metadata": {},
     "output_type": "execute_result"
    }
   ],
   "source": [
    "3 + 5 == 4 + 4"
   ]
  },
  {
   "cell_type": "code",
   "execution_count": 133,
   "metadata": {
    "colab": {
     "base_uri": "https://localhost:8080/"
    },
    "executionInfo": {
     "elapsed": 26,
     "status": "ok",
     "timestamp": 1627386597308,
     "user": {
      "displayName": "Kalana Wijegunarathna",
      "photoUrl": "https://lh3.googleusercontent.com/a-/AOh14GgdT59S_-QqaCBkCeJPNiakklpbaxsbO9noyndz=s64",
      "userId": "02489838847977846317"
     },
     "user_tz": -330
    },
    "id": "u1MUrgGB3F5M",
    "outputId": "cc8977ad-d6d7-4bf0-d314-e63fb1b27a6e"
   },
   "outputs": [
    {
     "data": {
      "text/plain": [
       "False"
      ]
     },
     "execution_count": 133,
     "metadata": {},
     "output_type": "execute_result"
    }
   ],
   "source": [
    "3 == 5 - 3"
   ]
  },
  {
   "cell_type": "markdown",
   "metadata": {
    "id": "6h9MdQJP3NSF"
   },
   "source": [
    "There are a few other logical comparison operators:"
   ]
  },
  {
   "cell_type": "code",
   "execution_count": 134,
   "metadata": {
    "colab": {
     "base_uri": "https://localhost:8080/"
    },
    "executionInfo": {
     "elapsed": 601,
     "status": "ok",
     "timestamp": 1627386597890,
     "user": {
      "displayName": "Kalana Wijegunarathna",
      "photoUrl": "https://lh3.googleusercontent.com/a-/AOh14GgdT59S_-QqaCBkCeJPNiakklpbaxsbO9noyndz=s64",
      "userId": "02489838847977846317"
     },
     "user_tz": -330
    },
    "id": "7QZ-CLfA3Jtv",
    "outputId": "27c8c34a-b042-495d-c53a-d6207fc548f5"
   },
   "outputs": [
    {
     "data": {
      "text/plain": [
       "True"
      ]
     },
     "execution_count": 134,
     "metadata": {},
     "output_type": "execute_result"
    }
   ],
   "source": [
    "3<=4"
   ]
  },
  {
   "cell_type": "code",
   "execution_count": 135,
   "metadata": {
    "colab": {
     "base_uri": "https://localhost:8080/"
    },
    "executionInfo": {
     "elapsed": 55,
     "status": "ok",
     "timestamp": 1627386597891,
     "user": {
      "displayName": "Kalana Wijegunarathna",
      "photoUrl": "https://lh3.googleusercontent.com/a-/AOh14GgdT59S_-QqaCBkCeJPNiakklpbaxsbO9noyndz=s64",
      "userId": "02489838847977846317"
     },
     "user_tz": -330
    },
    "id": "uFv0G3oE3TBk",
    "outputId": "2f00b396-d6d7-4353-ece9-4949017bd485"
   },
   "outputs": [
    {
     "data": {
      "text/plain": [
       "False"
      ]
     },
     "execution_count": 135,
     "metadata": {},
     "output_type": "execute_result"
    }
   ],
   "source": [
    "3>=4"
   ]
  },
  {
   "cell_type": "code",
   "execution_count": 136,
   "metadata": {
    "colab": {
     "base_uri": "https://localhost:8080/"
    },
    "executionInfo": {
     "elapsed": 49,
     "status": "ok",
     "timestamp": 1627386597892,
     "user": {
      "displayName": "Kalana Wijegunarathna",
      "photoUrl": "https://lh3.googleusercontent.com/a-/AOh14GgdT59S_-QqaCBkCeJPNiakklpbaxsbO9noyndz=s64",
      "userId": "02489838847977846317"
     },
     "user_tz": -330
    },
    "id": "FvQWE2PA3URe",
    "outputId": "78cb174d-d6f4-43e7-a4e2-850bc3d9785a"
   },
   "outputs": [
    {
     "data": {
      "text/plain": [
       "True"
      ]
     },
     "execution_count": 136,
     "metadata": {},
     "output_type": "execute_result"
    }
   ],
   "source": [
    "3!=4"
   ]
  },
  {
   "cell_type": "markdown",
   "metadata": {
    "id": "iXUxR3C-3XPf"
   },
   "source": [
    "The Boolean expression 3 &lt;= 4 uses the &lt;= operator to test whether the expression on the left (3)\n",
    "is less than or equal to the expression of the right (4). The Boolean expression evaluates to True.\n",
    "The &gt;= operator is used to test whether the operand on the left is greater than or equal to the\n",
    "operand on the right. The expression 3 != 4 uses the != (not equal) operator to test whether the\n",
    "expressions on the left and right evaluate to different values."
   ]
  },
  {
   "cell_type": "markdown",
   "metadata": {
    "id": "Er8W2aLU3ePM"
   },
   "source": [
    "#### **Pracitce Problem 2.2**\n",
    "\n",
    "Translate the following statements into Python Boolean expressions and evaluate them:\n",
    "\n",
    "1. The sum of 2 and 2 is less than 4.\n",
    "2. The value of 7 // 3 is equal to 1 + 1.\n",
    "3. The sum of 3 squared and 4 squared is equal to 25.\n",
    "4. The sum of 2, 4, and 6 is greater than 12.\n",
    "5. 1, 387 is divisible by 19.\n",
    "6. 31 is even.\n",
    "7. The lowest price among Rs. 34.99, Rs. 29.95, and Rs.31.50 is less than Rs.30.00.\n"
   ]
  },
  {
   "cell_type": "code",
   "execution_count": 157,
   "metadata": {
    "id": "Er5IkjT8zNK_"
   },
   "outputs": [
    {
     "name": "stdout",
     "output_type": "stream",
     "text": [
      "1 False\n",
      "2 True\n",
      "3 True\n",
      "4 False\n",
      "5 True\n",
      "6 False\n",
      "7 True\n"
     ]
    }
   ],
   "source": [
    "#Try out your solutions here\n",
    "print(1,2+2<4)\n",
    "print(2,7//3==1+1)\n",
    "print(3,3*3+4*4==25)\n",
    "print(4,2+4+6>12)\n",
    "print(5,1387%19==0)\n",
    "print(6,31%2==0)\n",
    "print(7,min(34.99,29.95,31.50)<30)\n",
    "\n"
   ]
  },
  {
   "cell_type": "markdown",
   "metadata": {
    "id": "WouJJlsB32Dt"
   },
   "source": [
    "Boolean expressions can be combined using Boolean operators **and**, **or**, and **not** to form larger\n",
    "Boolean expressions. The **and** operator applied to two Boolean expressions will evaluate to True if\n",
    "both expressions evaluate to True; if either expression evaluates to False, then it will evaluate to\n",
    "False:"
   ]
  },
  {
   "cell_type": "code",
   "execution_count": 138,
   "metadata": {
    "colab": {
     "base_uri": "https://localhost:8080/"
    },
    "executionInfo": {
     "elapsed": 46,
     "status": "ok",
     "timestamp": 1627386597893,
     "user": {
      "displayName": "Kalana Wijegunarathna",
      "photoUrl": "https://lh3.googleusercontent.com/a-/AOh14GgdT59S_-QqaCBkCeJPNiakklpbaxsbO9noyndz=s64",
      "userId": "02489838847977846317"
     },
     "user_tz": -330
    },
    "id": "d_b4ZAIc3V7_",
    "outputId": "e0686b15-754f-4bb3-e842-2f4b64b29939"
   },
   "outputs": [
    {
     "data": {
      "text/plain": [
       "False"
      ]
     },
     "execution_count": 138,
     "metadata": {},
     "output_type": "execute_result"
    }
   ],
   "source": [
    "2 < 3 and 4 > 5"
   ]
  },
  {
   "cell_type": "code",
   "execution_count": 139,
   "metadata": {
    "colab": {
     "base_uri": "https://localhost:8080/"
    },
    "executionInfo": {
     "elapsed": 43,
     "status": "ok",
     "timestamp": 1627386597896,
     "user": {
      "displayName": "Kalana Wijegunarathna",
      "photoUrl": "https://lh3.googleusercontent.com/a-/AOh14GgdT59S_-QqaCBkCeJPNiakklpbaxsbO9noyndz=s64",
      "userId": "02489838847977846317"
     },
     "user_tz": -330
    },
    "id": "azzLswIj4IqR",
    "outputId": "b5753c66-7f1f-4b8e-bea2-a6e1e90bcac0"
   },
   "outputs": [
    {
     "data": {
      "text/plain": [
       "True"
      ]
     },
     "execution_count": 139,
     "metadata": {},
     "output_type": "execute_result"
    }
   ],
   "source": [
    "2<3 and True"
   ]
  },
  {
   "cell_type": "markdown",
   "metadata": {
    "id": "fhqT3S4j4R1m"
   },
   "source": [
    "Both expressions illustrate that comparison operators are evaluated before Boolean operators.\n",
    "This is because comparison operators take precedence over Boolean operators, as we will see\n",
    "later.\n",
    "\n",
    "The **or** operator applied to two Boolean expressions evaluates to False only when both\n",
    "expressions are false. If either one is true or if both are true, then it evaluates to True."
   ]
  },
  {
   "cell_type": "code",
   "execution_count": 140,
   "metadata": {
    "colab": {
     "base_uri": "https://localhost:8080/"
    },
    "executionInfo": {
     "elapsed": 35,
     "status": "ok",
     "timestamp": 1627386597897,
     "user": {
      "displayName": "Kalana Wijegunarathna",
      "photoUrl": "https://lh3.googleusercontent.com/a-/AOh14GgdT59S_-QqaCBkCeJPNiakklpbaxsbO9noyndz=s64",
      "userId": "02489838847977846317"
     },
     "user_tz": -330
    },
    "id": "wyKMgMdr4Qb4",
    "outputId": "dc19cfe7-01a1-4da9-8dbb-835c84a1d66f"
   },
   "outputs": [
    {
     "data": {
      "text/plain": [
       "True"
      ]
     },
     "execution_count": 140,
     "metadata": {},
     "output_type": "execute_result"
    }
   ],
   "source": [
    "3 < 4 or 4 < 3"
   ]
  },
  {
   "cell_type": "code",
   "execution_count": 141,
   "metadata": {
    "colab": {
     "base_uri": "https://localhost:8080/"
    },
    "executionInfo": {
     "elapsed": 25,
     "status": "ok",
     "timestamp": 1627386597898,
     "user": {
      "displayName": "Kalana Wijegunarathna",
      "photoUrl": "https://lh3.googleusercontent.com/a-/AOh14GgdT59S_-QqaCBkCeJPNiakklpbaxsbO9noyndz=s64",
      "userId": "02489838847977846317"
     },
     "user_tz": -330
    },
    "id": "I8sEXTR_4f5w",
    "outputId": "5fb004a7-7129-4ef3-f168-ce3041276826"
   },
   "outputs": [
    {
     "data": {
      "text/plain": [
       "False"
      ]
     },
     "execution_count": 141,
     "metadata": {},
     "output_type": "execute_result"
    }
   ],
   "source": [
    "3<2 or 2<1"
   ]
  },
  {
   "cell_type": "markdown",
   "metadata": {
    "id": "5UhYNjoa4l57"
   },
   "source": [
    "The **not** operator is a unary Boolean operator, which means that it is applied to a single Boolean\n",
    "expression. It evaluates to False if the expression is true or to True if the expression is false."
   ]
  },
  {
   "cell_type": "code",
   "execution_count": 142,
   "metadata": {
    "colab": {
     "base_uri": "https://localhost:8080/"
    },
    "executionInfo": {
     "elapsed": 23,
     "status": "ok",
     "timestamp": 1627386597900,
     "user": {
      "displayName": "Kalana Wijegunarathna",
      "photoUrl": "https://lh3.googleusercontent.com/a-/AOh14GgdT59S_-QqaCBkCeJPNiakklpbaxsbO9noyndz=s64",
      "userId": "02489838847977846317"
     },
     "user_tz": -330
    },
    "id": "sj524oKL4iKB",
    "outputId": "9e61c3d4-3a45-4e7e-fcde-f5a53bfbe1ff"
   },
   "outputs": [
    {
     "data": {
      "text/plain": [
       "False"
      ]
     },
     "execution_count": 142,
     "metadata": {},
     "output_type": "execute_result"
    }
   ],
   "source": [
    "not (3 < 4)"
   ]
  },
  {
   "cell_type": "markdown",
   "metadata": {
    "id": "OMbDftZJ4tda"
   },
   "source": [
    "# 2.8  Variables and Assignments\n",
    "\n",
    "As we already know, it is useful to assign names to objects, and we call those names *variables*.\n",
    "For example, the object of integer type with value 3 may be assigned to variable x as x = 3. The\n",
    "variable x can be thought of as a name that enables us to retrieve this object later. In order to\n",
    "retrieve it, we just need to evaluate x in an expression."
   ]
  },
  {
   "cell_type": "code",
   "execution_count": 143,
   "metadata": {
    "id": "oMcGQVt-4s85"
   },
   "outputs": [],
   "source": [
    "x = 4"
   ]
  },
  {
   "cell_type": "markdown",
   "metadata": {
    "id": "Ah_-HVO14_mS"
   },
   "source": [
    "The statement x = 4 is called an assignment statement. The general format of an assignment\n",
    "statement is:\n",
    "\n",
    "\n",
    "\n",
    "```\n",
    "  <variable> = <expression>\n",
    "```\n",
    "An expression we refer to as &lt;expression&gt; lies on the right-hand side of the assignment operator\n",
    "=; it can be an algebraic, Boolean, or other kind of expression. On the left-hand side is a variable\n",
    "referred to as &lt;variable&gt;. The assignment statement assigns to the &lt;variable&gt; the value that\n",
    "&lt;expression&gt; evaluates to. In the last example, x is assigned value 4. With the assignment\n",
    "statement, we also *define* the variable.\n",
    "\n",
    "A defined variable (i.e., a variable with a value assigned), can be used in a Python expression:\n"
   ]
  },
  {
   "cell_type": "code",
   "execution_count": 144,
   "metadata": {
    "colab": {
     "base_uri": "https://localhost:8080/"
    },
    "id": "2nREMssq4-Mi",
    "outputId": "3b2c6dfe-a7ff-4491-9d96-a53862eb225b"
   },
   "outputs": [
    {
     "data": {
      "text/plain": [
       "4"
      ]
     },
     "execution_count": 144,
     "metadata": {},
     "output_type": "execute_result"
    }
   ],
   "source": [
    "x"
   ]
  },
  {
   "cell_type": "markdown",
   "metadata": {
    "id": "uiSHgCn15jB0"
   },
   "source": [
    "When Python evaluates an expression containing a variable, it will evaluate the variable to its\n",
    "assigned value and then perform the operations in the expression:"
   ]
  },
  {
   "cell_type": "code",
   "execution_count": 145,
   "metadata": {
    "colab": {
     "base_uri": "https://localhost:8080/"
    },
    "id": "k5c94t745bvA",
    "outputId": "dbe6b1bd-1c78-4d93-e61f-2816ef955653"
   },
   "outputs": [
    {
     "data": {
      "text/plain": [
       "16"
      ]
     },
     "execution_count": 145,
     "metadata": {},
     "output_type": "execute_result"
    }
   ],
   "source": [
    "4 * x"
   ]
  },
  {
   "cell_type": "markdown",
   "metadata": {
    "id": "hxWGWd-N5oov"
   },
   "source": [
    "An expression involving variables may appear on the right side of an assignment statement, such\n",
    "as:"
   ]
  },
  {
   "cell_type": "code",
   "execution_count": 146,
   "metadata": {
    "id": "VVTFg9885nae"
   },
   "outputs": [],
   "source": [
    "counter = 4 * x"
   ]
  },
  {
   "cell_type": "markdown",
   "metadata": {
    "id": "qDs08Zw65vAx"
   },
   "source": [
    "In statement **counter** = 4 * x, x is first evaluated to 4, then the expression 4 * 4 is evaluated to\n",
    "16, and then 16 gets assigned to variable **counter**:"
   ]
  },
  {
   "cell_type": "code",
   "execution_count": 147,
   "metadata": {
    "colab": {
     "base_uri": "https://localhost:8080/"
    },
    "id": "rqEr5pL45-m3",
    "outputId": "eaf8f8f1-24b0-4330-939d-2c740f341c2f"
   },
   "outputs": [
    {
     "data": {
      "text/plain": [
       "16"
      ]
     },
     "execution_count": 147,
     "metadata": {},
     "output_type": "execute_result"
    }
   ],
   "source": [
    "counter"
   ]
  },
  {
   "cell_type": "markdown",
   "metadata": {
    "id": "Qhs_6Lm76AnQ"
   },
   "source": [
    "So far, we have defined two variable names: x with value 4 and counter with value 16. What\n",
    "about, say, the value of variable z that has not yet been defined (not assigned a value)? Let’s see:"
   ]
  },
  {
   "cell_type": "code",
   "execution_count": 148,
   "metadata": {
    "colab": {
     "base_uri": "https://localhost:8080/",
     "height": 167
    },
    "id": "SZZgjLrP5_mw",
    "outputId": "233e55ff-eac6-40ae-db71-61ffae4f7783"
   },
   "outputs": [
    {
     "ename": "NameError",
     "evalue": "name 'z' is not defined",
     "output_type": "error",
     "traceback": [
      "\u001b[0;31m---------------------------------------------------------------------------\u001b[0m",
      "\u001b[0;31mNameError\u001b[0m                                 Traceback (most recent call last)",
      "Cell \u001b[0;32mIn[148], line 1\u001b[0m\n\u001b[0;32m----> 1\u001b[0m z\n",
      "\u001b[0;31mNameError\u001b[0m: name 'z' is not defined"
     ]
    }
   ],
   "source": [
    "z"
   ]
  },
  {
   "cell_type": "markdown",
   "metadata": {
    "id": "EJc2FW106FVM"
   },
   "source": [
    "We get an error message, saying that there is a “NameError” because z is not defined.\n",
    "\n",
    "We can use the “del” statement to delete a defined (an existing) variable, which will remove\n",
    "(undefine) the variable from the system. Obviously, an undefined variable cannot be deleted."
   ]
  },
  {
   "cell_type": "code",
   "execution_count": null,
   "metadata": {
    "colab": {
     "base_uri": "https://localhost:8080/",
     "height": 185
    },
    "id": "gWvoR4tS6D3X",
    "outputId": "a4a5b841-e7d4-45b0-d32c-59d69b437694"
   },
   "outputs": [],
   "source": [
    "del(x)\n",
    "x"
   ]
  },
  {
   "cell_type": "markdown",
   "metadata": {
    "id": "04VYzlYk6W19"
   },
   "source": [
    "In summary, if a variable has either not been assigned a value or been deleted, it does not exist.\n",
    "When Python tries to evaluate an undefined name, a “NameError” occurs."
   ]
  },
  {
   "cell_type": "markdown",
   "metadata": {
    "id": "onRJbzg86aMa"
   },
   "source": [
    "#### **Pracitce Problem 2.3**\n",
    "\n",
    "Write Python statements for the following actions and execute them:\n",
    "1. Assign integer value 3 to variable a.\n",
    "2. Assign 4 to variable b.\n",
    "3. Assign to variable c the value of expression a * a + b * b.\n"
   ]
  },
  {
   "cell_type": "code",
   "execution_count": 159,
   "metadata": {},
   "outputs": [
    {
     "data": {
      "text/plain": [
       "25"
      ]
     },
     "execution_count": 159,
     "metadata": {},
     "output_type": "execute_result"
    }
   ],
   "source": [
    "a=3\n",
    "b=4\n",
    "c=a*a+b*b\n",
    "c"
   ]
  },
  {
   "cell_type": "markdown",
   "metadata": {
    "id": "K7gMGOR36qwu"
   },
   "source": [
    "# 2.9  Python Programs\n",
    "\n",
    "We explained in Section 2.2 on how to use a Python program with the Python interpreter in the\n",
    "scripting mode. A Python program is a sequence of Python statements, spread over several lines.\n",
    "Let us try our first Python program. Type the following exactly as shown using a text editor and\n",
    "save the file as prog-2-1.py.\n"
   ]
  },
  {
   "cell_type": "code",
   "execution_count": null,
   "metadata": {
    "colab": {
     "base_uri": "https://localhost:8080/"
    },
    "id": "cw3M8p2JZOFu",
    "outputId": "489f999a-dcf9-4421-9c2e-e297b51f1a6d"
   },
   "outputs": [],
   "source": [
    "# Program-2.1\n",
    "msg=\"Let’s learn Python\"\n",
    "print(\"Hello, World!\")\n",
    "print(msg)"
   ]
  },
  {
   "cell_type": "markdown",
   "metadata": {
    "id": "OaFLV_7jZKRG"
   },
   "source": [
    "Next run the Python interpreter with the file as input and observe the output.\n",
    "\n",
    "```\n",
    "    $ python prog-2-1.py\n",
    "    Hello, World!\n",
    "    Let's learn Python\n",
    "```"
   ]
  },
  {
   "cell_type": "markdown",
   "metadata": {
    "id": "JM2YLNfw7ode"
   },
   "source": [
    "# 2.10  Input, Output and Files\n",
    "\n",
    "Here we briefly introduce how to perform input, output and file operations in Python. A more\n",
    "detailed discussion is in Chapter 10.\n",
    "The simplest way to produce output is using the **print()** built-in function, as we have seen\n",
    "already. This converts the expressions you pass into a string and writes the result to standard\n",
    "output as follows:"
   ]
  },
  {
   "cell_type": "code",
   "execution_count": null,
   "metadata": {
    "colab": {
     "base_uri": "https://localhost:8080/"
    },
    "id": "yR_moATy6P0Z",
    "outputId": "97363bc9-e35d-4eff-dacd-d461ce284dd3"
   },
   "outputs": [],
   "source": [
    "print(\"Let’s learn Python\")"
   ]
  },
  {
   "cell_type": "markdown",
   "metadata": {
    "id": "FZtadnbj79Q2"
   },
   "source": [
    "Python provides the built-in function **input()** to read a line of text from standard input, which by\n",
    "default comes from the keyboard."
   ]
  },
  {
   "cell_type": "markdown",
   "metadata": {
    "id": "EgIFJtN3-F90"
   },
   "source": [
    "## 2.10.1  The input() Function\n",
    "\n",
    "In the  input([prompt]) built-in function, if the optional prompt argument is present, it is written to\n",
    "standard output (screen) without a trailing newline. The function then reads a line from standard\n",
    "input (keyboard), converts it to a string (stripping a trailing newline), and returns that.\n",
    "\n",
    "\n",
    "```\n",
    "    # Program-2.2\n",
    "    string = input(\"Enter your input: \")\n",
    "    print(\"Received input is:\", string)\n",
    "```\n",
    "\n",
    "This would prompt you to enter any string and it would display same string on the screen. When\n",
    "we type \"Hello Python!\", its output is like this:\n",
    "\n",
    "\n",
    "\n",
    "```\n",
    "    Enter your input: Hello Python\n",
    "    Received input is: Hello Python\n",
    "```\n",
    "The eval([prompt]) function can evaluate valid Python expressions given through\n",
    "input([prompt]). Here is a program that uses it.\n",
    "\n",
    "\n",
    "\n",
    "```\n",
    "    # Program-2.3\n",
    "    string = input(\"Enter your input: \")\n",
    "    print(\"Received input is:\", eval(string))\n",
    "```\n",
    "This would produce the following result against the entered input:\n",
    "\n",
    "\n",
    "\n",
    "```\n",
    "    Enter your input: [x*5 for x in range(2,10,2)]\n",
    "    Received input is: [10, 20, 30, 40]\n",
    "```"
   ]
  },
  {
   "cell_type": "code",
   "execution_count": 3,
   "metadata": {
    "colab": {
     "base_uri": "https://localhost:8080/"
    },
    "id": "ixmxptkw776a",
    "outputId": "75bdcf99-ac0d-45f2-94e6-d903574e0406"
   },
   "outputs": [
    {
     "name": "stdout",
     "output_type": "stream",
     "text": [
      "Received input is: text\n"
     ]
    }
   ],
   "source": [
    "string = input(\"Enter your input: \")\n",
    "print(\"Received input is:\", string)"
   ]
  },
  {
   "cell_type": "code",
   "execution_count": 1,
   "metadata": {
    "colab": {
     "base_uri": "https://localhost:8080/"
    },
    "executionInfo": {
     "elapsed": 13908,
     "status": "ok",
     "timestamp": 1627386741776,
     "user": {
      "displayName": "Kalana Wijegunarathna",
      "photoUrl": "https://lh3.googleusercontent.com/a-/AOh14GgdT59S_-QqaCBkCeJPNiakklpbaxsbO9noyndz=s64",
      "userId": "02489838847977846317"
     },
     "user_tz": -330
    },
    "id": "Oxt0uzJXznjM",
    "outputId": "a212e00a-b481-4d88-b90a-ca3b24d0662b"
   },
   "outputs": [
    {
     "name": "stdout",
     "output_type": "stream",
     "text": [
      "Received input is: [0, 1, 2, 3, 4, 5]\n"
     ]
    }
   ],
   "source": [
    "# Program-2.3\n",
    "string = input(\"Enter your input: \")\n",
    "print(\"Received input is:\", eval(string))"
   ]
  },
  {
   "cell_type": "markdown",
   "metadata": {
    "id": "hdTZNsnLAvvH"
   },
   "source": [
    "### 2.10.2  Reading Input from a File\n",
    "\n",
    "The following program will open the file named as “pythonlearn.txt” and print its content on the\n",
    "screen (i.e., the standard output). For this program to work, the file “pythonlearn.txt” must exist\n",
    "in the same directory with the Python program file.\n"
   ]
  },
  {
   "cell_type": "code",
   "execution_count": null,
   "metadata": {
    "colab": {
     "base_uri": "https://localhost:8080/"
    },
    "id": "m4po6I3YaBud",
    "outputId": "6ddb8490-75c9-4a6d-95d1-009c29140de0"
   },
   "outputs": [],
   "source": [
    "# Program-2.4\n",
    "# Open a file\n",
    "fo = open(\"/content/pythonlearn.txt\", \"r\")\n",
    "string = fo.read();\n",
    "print(\"Read String is: \", string)\n",
    "# Close opened file\n",
    "fo.close()"
   ]
  },
  {
   "cell_type": "markdown",
   "metadata": {
    "id": "QlHAhjAxBUSY"
   },
   "source": [
    "### 2.10.3  Writing to a File\n",
    "\n",
    "The following program will write the given sentence to the “firstwrite.txt” file.\n",
    "\n"
   ]
  },
  {
   "cell_type": "code",
   "execution_count": null,
   "metadata": {
    "id": "27WjTl11b0go"
   },
   "outputs": [],
   "source": [
    "# Program-2.5\n",
    "# Open a file\n",
    "fo = open(\"firstwrite.txt\", \"w\")\n",
    "fo.write(\"Python is a great language.\\nYeah its great!!\\n\");\n",
    "# Close opened file\n",
    "fo.close()"
   ]
  },
  {
   "cell_type": "markdown",
   "metadata": {
    "id": "1ySZmScRB433"
   },
   "source": [
    "# 2.11  Python Keywords\n",
    "\n",
    "Shown below are the keywords (reserved words) of the Python language.\n",
    "\n",
    "\n",
    "|   |   |   |   |   |   |   |   |\n",
    "|---|---|---|---|---|---|---|---|\n",
    "and | as | assert | async | await | break | class | continue\n",
    "def | del  | elif |  else | except  | finally | for | from\n",
    "global | if | import  | in  | is | lambda | nonlocal | not\n",
    "or | pass |  raise  | return | try | while | with | yield\n",
    "False | True | None\n",
    "\n",
    "The above should not be used arbitrarily in programs, e.g., as names of variables. There are also\n",
    "several words that have special meanings in Python, for e.g., True, False, None."
   ]
  }
 ],
 "metadata": {
  "colab": {
   "collapsed_sections": [
    "LbCOCz8zvZ85",
    "r8O1VVRRx-5N",
    "Ealtex9Oyeos",
    "eENLw1lI0xwd",
    "g1Q6oTzp2J6-",
    "Er8W2aLU3ePM",
    "OMbDftZJ4tda",
    "onRJbzg86aMa",
    "K7gMGOR36qwu",
    "JM2YLNfw7ode",
    "EgIFJtN3-F90",
    "hdTZNsnLAvvH",
    "QlHAhjAxBUSY",
    "1ySZmScRB433"
   ],
   "name": "2_Introduction_to_Python.ipynb",
   "provenance": []
  },
  "kernelspec": {
   "display_name": "Python 3.10.0 64-bit",
   "language": "python",
   "name": "python3"
  },
  "language_info": {
   "codemirror_mode": {
    "name": "ipython",
    "version": 3
   },
   "file_extension": ".py",
   "mimetype": "text/x-python",
   "name": "python",
   "nbconvert_exporter": "python",
   "pygments_lexer": "ipython3",
   "version": "3.11.9"
  },
  "vscode": {
   "interpreter": {
    "hash": "f828e95a9b9bc7dc8351a34f16a1f350f8657cec2dabd19a6b6b56268dd61f60"
   }
  }
 },
 "nbformat": 4,
 "nbformat_minor": 1
}
