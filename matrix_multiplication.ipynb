{
 "cells": [
  {
   "cell_type": "markdown",
   "metadata": {},
   "source": [
    "matrix mul"
   ]
  },
  {
   "cell_type": "code",
   "execution_count": 2,
   "metadata": {},
   "outputs": [],
   "source": [
    "def mat_in(l1,rows,cols) -> list:\n",
    "    l1 = l1.split()\n",
    "    mat = [list(map(int,l1[i*cols:(i+1)*cols])) for i in range(rows)]\n",
    "    return mat\n"
   ]
  },
  {
   "cell_type": "code",
   "execution_count": 3,
   "metadata": {},
   "outputs": [
    {
     "name": "stdout",
     "output_type": "stream",
     "text": [
      "[[1, 2, 3], [4, 5, 6]]\n",
      "[[1, 2], [3, 4], [5, 6]]\n"
     ]
    }
   ],
   "source": [
    "a = mat_in('1 2 3 4 5 6',rows=2,cols=3)\n",
    "b = mat_in('1 2 3 4 5 6 ',rows=3,cols=2)\n",
    "\n",
    "print(a)\n",
    "print(b)"
   ]
  },
  {
   "cell_type": "code",
   "execution_count": 4,
   "metadata": {},
   "outputs": [],
   "source": [
    "\n",
    "def mat_mul(a,b) -> list:\n",
    "    c=[]\n",
    "    n = len(a)\n",
    "    m = len(b[0])\n",
    "    p = len(a[0])\n",
    "    q = len(b)\n",
    "    t=0\n",
    "    for i in range(n*m*p):\n",
    "        if not i==0 and i%p==0:\n",
    "            c.append(t)\n",
    "            t=0\n",
    "        t += a[(i//(p*m))][i%p]*b[i%p][(i//(p))%m]\n",
    "    c.append(t)\n",
    "    return [c[i*m:(i+1)*m] for i in range(n)]"
   ]
  },
  {
   "cell_type": "code",
   "execution_count": 5,
   "metadata": {},
   "outputs": [
    {
     "data": {
      "text/plain": [
       "[[22, 28], [49, 64]]"
      ]
     },
     "execution_count": 5,
     "metadata": {},
     "output_type": "execute_result"
    }
   ],
   "source": [
    "\n",
    "mat_mul(a,b)"
   ]
  },
  {
   "cell_type": "markdown",
   "metadata": {},
   "source": [
    "testing"
   ]
  },
  {
   "cell_type": "code",
   "execution_count": null,
   "metadata": {},
   "outputs": [
    {
     "name": "stdout",
     "output_type": "stream",
     "text": [
      "0 0 0 0\n",
      "0 1 1 0\n",
      "0 2 2 0\n",
      "0 0 0 1\n",
      "0 1 1 1\n",
      "0 2 2 1\n",
      "0 0 0 2\n",
      "0 1 1 2\n",
      "0 2 2 2\n",
      "1 0 0 0\n",
      "1 1 1 0\n",
      "1 2 2 0\n",
      "1 0 0 1\n",
      "1 1 1 1\n",
      "1 2 2 1\n",
      "1 0 0 2\n",
      "1 1 1 2\n",
      "1 2 2 2\n"
     ]
    }
   ],
   "source": [
    "n = 2\n",
    "m = 3\n",
    "p = 3\n",
    "for i in range(n*m*p):\n",
    "    print((i//(p*m)),i%p,i%p,((i//p)%m))"
   ]
  }
 ],
 "metadata": {
  "kernelspec": {
   "display_name": "uni",
   "language": "python",
   "name": "python3"
  },
  "language_info": {
   "codemirror_mode": {
    "name": "ipython",
    "version": 3
   },
   "file_extension": ".py",
   "mimetype": "text/x-python",
   "name": "python",
   "nbconvert_exporter": "python",
   "pygments_lexer": "ipython3",
   "version": "3.11.9"
  }
 },
 "nbformat": 4,
 "nbformat_minor": 2
}
