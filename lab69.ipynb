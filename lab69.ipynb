{
 "cells": [
  {
   "cell_type": "code",
   "execution_count": 2,
   "metadata": {},
   "outputs": [],
   "source": [
    "n, m =map(int,input('Enter the dimensions: ').split(','))\n"
   ]
  },
  {
   "cell_type": "code",
   "execution_count": 1,
   "metadata": {},
   "outputs": [],
   "source": [
    "def mat_in(n,m,name):\n",
    "    temp_mat = input(f'Enter Matrix {name}: ').split('\\n')\n",
    "    if len(temp_mat)!=n:\n",
    "        print('Invalid Matrix')\n",
    "        return []\n",
    "    try:\n",
    "        mat = [map(int,i.split(' ')) for i in temp_mat]\n",
    "        return mat\n",
    "    except:\n",
    "        print('Error')\n",
    "        return []  \n",
    "            "
   ]
  },
  {
   "cell_type": "code",
   "execution_count": 3,
   "metadata": {},
   "outputs": [
    {
     "name": "stdout",
     "output_type": "stream",
     "text": [
      "3 4\n"
     ]
    }
   ],
   "source": [
    "print(n,m)"
   ]
  },
  {
   "cell_type": "code",
   "execution_count": 5,
   "metadata": {},
   "outputs": [
    {
     "name": "stdout",
     "output_type": "stream",
     "text": [
      "Invalid Matrix\n"
     ]
    }
   ],
   "source": [
    "matrix_A = mat_in(n,m,'A')"
   ]
  },
  {
   "cell_type": "code",
   "execution_count": 14,
   "metadata": {},
   "outputs": [
    {
     "name": "stdout",
     "output_type": "stream",
     "text": [
      "no\n"
     ]
    }
   ],
   "source": [
    "try:\n",
    "    if 5>4:\n",
    "        raise ValueError\n",
    "except:\n",
    "    print('no')"
   ]
  },
  {
   "cell_type": "code",
   "execution_count": 19,
   "metadata": {},
   "outputs": [
    {
     "name": "stdout",
     "output_type": "stream",
     "text": [
      "[[1], [1], [1]]\n"
     ]
    }
   ],
   "source": [
    "mat = [list() for i in range(n)]\n",
    "mat[0].append(1)\n",
    "print(mat)"
   ]
  },
  {
   "cell_type": "code",
   "execution_count": 6,
   "metadata": {},
   "outputs": [
    {
     "name": "stdout",
     "output_type": "stream",
     "text": [
      "0 (0, 0) (0, 0) (0, 0) 1\n",
      "1 (0, 1) (1, 0) (0, 0) 2\n",
      "2 (0, 2) (2, 0) (0, 0) 3\n",
      "3 (0, 3) (3, 0) (0, 0) 0\n",
      "4 (0, 0) (0, 1) (0, 1) 1\n",
      "5 (0, 1) (1, 1) (0, 1) 2\n",
      "6 (0, 2) (2, 1) (0, 1) 3\n",
      "7 (0, 3) (3, 1) (0, 1) 0\n",
      "8 (0, 0) (0, 2) (0, 2) 1\n",
      "9 (0, 1) (1, 2) (0, 2) 2\n",
      "10 (0, 2) (2, 2) (0, 2) 3\n",
      "11 (0, 3) (3, 2) (0, 2) 0\n",
      "12 (1, 0) (0, 0) (1, 0) 1\n",
      "13 (1, 1) (1, 0) (1, 0) 2\n",
      "14 (1, 2) (2, 0) (1, 0) 3\n",
      "15 (1, 3) (3, 0) (1, 0) 0\n",
      "16 (1, 0) (0, 1) (1, 1) 1\n",
      "17 (1, 1) (1, 1) (1, 1) 2\n",
      "18 (1, 2) (2, 1) (1, 1) 3\n",
      "19 (1, 3) (3, 1) (1, 1) 0\n",
      "20 (1, 0) (0, 2) (1, 2) 1\n",
      "21 (1, 1) (1, 2) (1, 2) 2\n",
      "22 (1, 2) (2, 2) (1, 2) 3\n",
      "23 (1, 3) (3, 2) (1, 2) 0\n",
      "24 (2, 0) (0, 0) (2, 0) 1\n",
      "25 (2, 1) (1, 0) (2, 0) 2\n",
      "26 (2, 2) (2, 0) (2, 0) 3\n",
      "27 (2, 3) (3, 0) (2, 0) 0\n",
      "28 (2, 0) (0, 1) (2, 1) 1\n",
      "29 (2, 1) (1, 1) (2, 1) 2\n",
      "30 (2, 2) (2, 1) (2, 1) 3\n",
      "31 (2, 3) (3, 1) (2, 1) 0\n",
      "32 (2, 0) (0, 2) (2, 2) 1\n",
      "33 (2, 1) (1, 2) (2, 2) 2\n",
      "34 (2, 2) (2, 2) (2, 2) 3\n",
      "35 (2, 3) (3, 2) (2, 2) 0\n"
     ]
    }
   ],
   "source": [
    "for i in range(n*n*m):\n",
    "    print(i,(i//(n*m),i%m),(i%m,(i//m)%n),(i//(n*m),(i//m)%n),(i+1)%m)"
   ]
  },
  {
   "cell_type": "markdown",
   "metadata": {},
   "source": [
    "0 1 2 3 4 5 6 7 8\n"
   ]
  }
 ],
 "metadata": {
  "kernelspec": {
   "display_name": "uni",
   "language": "python",
   "name": "python3"
  },
  "language_info": {
   "codemirror_mode": {
    "name": "ipython",
    "version": 3
   },
   "file_extension": ".py",
   "mimetype": "text/x-python",
   "name": "python",
   "nbconvert_exporter": "python",
   "pygments_lexer": "ipython3",
   "version": "3.11.9"
  }
 },
 "nbformat": 4,
 "nbformat_minor": 2
}
